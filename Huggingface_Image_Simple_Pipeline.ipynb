{
  "nbformat": 4,
  "nbformat_minor": 0,
  "metadata": {
    "colab": {
      "provenance": [],
      "authorship_tag": "ABX9TyPOn8zS+BHgNrUjRPDYNekz",
      "include_colab_link": true
    },
    "kernelspec": {
      "name": "python3",
      "display_name": "Python 3"
    },
    "language_info": {
      "name": "python"
    },
    "accelerator": "GPU",
    "gpuClass": "standard"
  },
  "cells": [
    {
      "cell_type": "markdown",
      "metadata": {
        "id": "view-in-github",
        "colab_type": "text"
      },
      "source": [
        "<a href=\"https://colab.research.google.com/github/Maximilianwte/Image-tutorial/blob/main/Huggingface_Image_Simple_Pipeline.ipynb\" target=\"_parent\"><img src=\"https://colab.research.google.com/assets/colab-badge.svg\" alt=\"Open In Colab\"/></a>"
      ]
    },
    {
      "cell_type": "code",
      "execution_count": null,
      "metadata": {
        "id": "bdfKdqvQdLFi"
      },
      "outputs": [],
      "source": [
        "from PIL import Image\n",
        "import glob\n",
        "file_paths = glob.glob('path/to/images/.*jpg')"
      ]
    },
    {
      "cell_type": "markdown",
      "source": [
        "Change model by copying model path from https://huggingface.co/models."
      ],
      "metadata": {
        "id": "uGXqsi84eCrw"
      }
    },
    {
      "cell_type": "code",
      "source": [
        "from transformers import pipeline\n",
        "\n",
        "model = pipeline(model=\"google/vit-base-patch16-224\")\n",
        "preds = model(\n",
        "    images=file_paths, device=0\n",
        ")"
      ],
      "metadata": {
        "id": "-boSqEmGdkWd"
      },
      "execution_count": null,
      "outputs": []
    },
    {
      "cell_type": "code",
      "source": [
        "preds = [{\"score\": round(pred[\"score\"], 4), \"label\": pred[\"label\"]} for pred in preds]\n",
        "preds"
      ],
      "metadata": {
        "id": "FDZgvC6WeKKL"
      },
      "execution_count": null,
      "outputs": []
    }
  ]
}