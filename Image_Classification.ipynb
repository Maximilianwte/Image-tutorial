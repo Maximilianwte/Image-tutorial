{
  "nbformat": 4,
  "nbformat_minor": 0,
  "metadata": {
    "colab": {
      "provenance": [],
      "mount_file_id": "1vg8_vJxkb8CpHD7edObay7DI6dNICisj",
      "authorship_tag": "ABX9TyMlNmu48CYVWyNRd46UTdey",
      "include_colab_link": true
    },
    "kernelspec": {
      "name": "python3",
      "display_name": "Python 3"
    },
    "language_info": {
      "name": "python"
    },
    "accelerator": "GPU",
    "gpuClass": "standard"
  },
  "cells": [
    {
      "cell_type": "markdown",
      "metadata": {
        "id": "view-in-github",
        "colab_type": "text"
      },
      "source": [
        "<a href=\"https://colab.research.google.com/github/Maximilianwte/Image-tutorial/blob/main/Image_Classification.ipynb\" target=\"_parent\"><img src=\"https://colab.research.google.com/assets/colab-badge.svg\" alt=\"Open In Colab\"/></a>"
      ]
    },
    {
      "cell_type": "code",
      "execution_count": null,
      "metadata": {
        "id": "xwtBmDEVVPlh"
      },
      "outputs": [],
      "source": [
        "!pip install --quiet transformers datasets optuna"
      ]
    },
    {
      "cell_type": "markdown",
      "source": [
        "#### Classification"
      ],
      "metadata": {
        "id": "3b5sMuSetstZ"
      }
    },
    {
      "cell_type": "code",
      "source": [
        "from datasets import load_dataset, Dataset, Image\n",
        "\n",
        "dataset = load_dataset(\"imagefolder\", data_dir=\"Path/to/Dataset\")"
      ],
      "metadata": {
        "id": "f1QxusPuVqLw"
      },
      "execution_count": null,
      "outputs": []
    },
    {
      "cell_type": "code",
      "source": [
        "dataset"
      ],
      "metadata": {
        "colab": {
          "base_uri": "https://localhost:8080/"
        },
        "id": "RJbjtSLOdsCT",
        "outputId": "c217c973-ea40-47c3-b2c6-f0571936c996"
      },
      "execution_count": null,
      "outputs": [
        {
          "output_type": "execute_result",
          "data": {
            "text/plain": [
              "DatasetDict({\n",
              "    train: Dataset({\n",
              "        features: ['image', 'label'],\n",
              "        num_rows: 149\n",
              "    })\n",
              "    test: Dataset({\n",
              "        features: ['image', 'label'],\n",
              "        num_rows: 40\n",
              "    })\n",
              "})"
            ]
          },
          "metadata": {},
          "execution_count": 33
        }
      ]
    },
    {
      "cell_type": "code",
      "source": [
        "from transformers import ViTFeatureExtractor\n",
        "import torch\n",
        "\n",
        "model_name_or_path = 'google/vit-base-patch16-224-in21k'\n",
        "feature_extractor = ViTFeatureExtractor.from_pretrained(model_name_or_path)"
      ],
      "metadata": {
        "id": "JST9tcf_wlnF"
      },
      "execution_count": null,
      "outputs": []
    },
    {
      "cell_type": "code",
      "source": [
        "def transform_without_augmentation(example_batch):\n",
        "    inputs = feature_extractor([x for x in example_batch['image']], return_tensors='pt')\n",
        "    inputs['labels'] = example_batch['label']\n",
        "    return inputs\n",
        "\n",
        "prepared_ds = dataset.with_transform(transform_without_augmentation)"
      ],
      "metadata": {
        "id": "duMJqKQSerd2"
      },
      "execution_count": null,
      "outputs": []
    },
    {
      "cell_type": "code",
      "source": [
        "def collate_fn(batch):\n",
        "    return {\n",
        "        'pixel_values': torch.stack([x['pixel_values'] for x in batch]),\n",
        "        'labels': torch.tensor([x['labels'] for x in batch])\n",
        "    }"
      ],
      "metadata": {
        "id": "dvpccz-owlnG"
      },
      "execution_count": null,
      "outputs": []
    },
    {
      "cell_type": "code",
      "source": [
        "# For classification\n",
        "from transformers import ViTForImageClassification\n",
        "import numpy as np\n",
        "from datasets import load_metric\n",
        "\n",
        "metric = load_metric(\"accuracy\")\n",
        "def compute_metrics(p):\n",
        "    return metric.compute(predictions=np.argmax(p.predictions, axis=1), references=p.label_ids)\n",
        "\n",
        "labels = dataset['train'].features['label'].names\n",
        "\n",
        "model = ViTForImageClassification.from_pretrained(\n",
        "    model_name_or_path,\n",
        "    num_labels=len(labels),\n",
        "    id2label={str(i): c for i, c in enumerate(labels)},\n",
        "    label2id={c: str(i) for i, c in enumerate(labels)}\n",
        ").to('cuda')\n"
      ],
      "metadata": {
        "colab": {
          "base_uri": "https://localhost:8080/"
        },
        "outputId": "8f8d436c-7ef4-48b1-b704-b4d3c253e777",
        "id": "A8YyHDMiwlnG"
      },
      "execution_count": null,
      "outputs": [
        {
          "output_type": "stream",
          "name": "stderr",
          "text": [
            "Some weights of the model checkpoint at google/vit-base-patch16-224-in21k were not used when initializing ViTForImageClassification: ['pooler.dense.bias', 'pooler.dense.weight']\n",
            "- This IS expected if you are initializing ViTForImageClassification from the checkpoint of a model trained on another task or with another architecture (e.g. initializing a BertForSequenceClassification model from a BertForPreTraining model).\n",
            "- This IS NOT expected if you are initializing ViTForImageClassification from the checkpoint of a model that you expect to be exactly identical (initializing a BertForSequenceClassification model from a BertForSequenceClassification model).\n",
            "Some weights of ViTForImageClassification were not initialized from the model checkpoint at google/vit-base-patch16-224-in21k and are newly initialized: ['classifier.weight', 'classifier.bias']\n",
            "You should probably TRAIN this model on a down-stream task to be able to use it for predictions and inference.\n"
          ]
        }
      ]
    },
    {
      "cell_type": "code",
      "source": [
        "from transformers import EarlyStoppingCallback\n",
        "\n",
        "early_stopping_callback = EarlyStoppingCallback(\n",
        "    early_stopping_patience=3, # Stop training if the validation loss doesn't improve for 3 epochs\n",
        "    early_stopping_threshold=0.01, # Stop training if the validation loss hasn't decreased by at least 0.01\n",
        ")"
      ],
      "metadata": {
        "id": "DMXG59DCurlw"
      },
      "execution_count": null,
      "outputs": []
    },
    {
      "cell_type": "code",
      "source": [
        "# OPTUNA\n",
        "import optuna\n",
        "from transformers import TrainingArguments\n",
        "from transformers import Trainer\n",
        "\n",
        "def objective(trial):\n",
        "    lr = trial.suggest_float('lr', 1e-5, 1e-3)\n",
        "    batch_size = trial.suggest_categorical('batch_size', [16,32,64])\n",
        "\n",
        "    training_args = TrainingArguments(\n",
        "    output_dir=\"./vit-model\",\n",
        "    per_device_train_batch_size=batch_size,\n",
        "    evaluation_strategy=\"steps\",\n",
        "    num_train_epochs=12,\n",
        "    fp16=True,\n",
        "    save_steps=30,\n",
        "    eval_steps=30,\n",
        "    logging_steps=10,\n",
        "    learning_rate=lr,\n",
        "    save_total_limit=2,\n",
        "    remove_unused_columns=False,\n",
        "    push_to_hub=False,\n",
        "    report_to='tensorboard',\n",
        "    load_best_model_at_end=True,\n",
        "    )\n",
        "      \n",
        "\n",
        "    trainer = Trainer(\n",
        "        model=model,\n",
        "        args=training_args,\n",
        "        data_collator=collate_fn,\n",
        "        compute_metrics=compute_metrics,\n",
        "        train_dataset=prepared_ds['train'],\n",
        "        eval_dataset=prepared_ds['test'],\n",
        "        tokenizer=feature_extractor,\n",
        "        callbacks=[early_stopping_callback]\n",
        "    )\n",
        "\n",
        "    train_results = trainer.train()\n",
        "    trainer.save_model()\n",
        "    trainer.log_metrics(\"train\", train_results.metrics)\n",
        "    trainer.save_metrics(\"train\", train_results.metrics)\n",
        "    trainer.save_state()\n",
        "\n",
        "    metrics = trainer.evaluate(prepared_ds['test'])\n",
        "    return metrics['eval_accuracy']"
      ],
      "metadata": {
        "id": "MG1S71betSIl"
      },
      "execution_count": null,
      "outputs": []
    },
    {
      "cell_type": "code",
      "source": [
        "study = optuna.create_study(direction='maximize')\n",
        "study.optimize(objective, n_trials=30)\n",
        "\n",
        "study.best_params"
      ],
      "metadata": {
        "id": "cIkQjZKZtTNl"
      },
      "execution_count": null,
      "outputs": []
    },
    {
      "cell_type": "code",
      "source": [
        "# Finally train a model with the best hyperparameter settings outputted by optuna\n",
        "training_args = TrainingArguments(\n",
        "output_dir=\"./vit-model\",\n",
        "per_device_train_batch_size=64,\n",
        "evaluation_strategy=\"steps\",\n",
        "num_train_epochs=20,\n",
        "fp16=True,\n",
        "save_steps=5,\n",
        "eval_steps=5,\n",
        "logging_steps=10,\n",
        "learning_rate=0.0008027780105461245,\n",
        "save_total_limit=2,\n",
        "remove_unused_columns=False,\n",
        "push_to_hub=False,\n",
        "report_to='tensorboard',\n",
        "load_best_model_at_end=True,\n",
        ")\n",
        "  \n",
        "\n",
        "trainer = Trainer(\n",
        "    model=model,\n",
        "    args=training_args,\n",
        "    data_collator=collate_fn,\n",
        "    compute_metrics=compute_metrics,\n",
        "    train_dataset=prepared_ds['train'],\n",
        "    eval_dataset=prepared_ds['test'],\n",
        "    tokenizer=feature_extractor,\n",
        "    callbacks=[early_stopping_callback]\n",
        ")\n",
        "\n",
        "train_results = trainer.train()\n",
        "trainer.save_model()\n",
        "trainer.log_metrics(\"train\", train_results.metrics)\n",
        "trainer.save_metrics(\"train\", train_results.metrics)\n",
        "trainer.save_state()"
      ],
      "metadata": {
        "id": "Uy5H94Axbj6T"
      },
      "execution_count": null,
      "outputs": []
    },
    {
      "cell_type": "code",
      "source": [
        "metrics = trainer.evaluate(prepared_ds['test'])\n",
        "trainer.log_metrics(\"eval\", metrics)\n",
        "trainer.save_metrics(\"eval\", metrics)\n"
      ],
      "metadata": {
        "id": "askoG7qnwlnJ"
      },
      "execution_count": null,
      "outputs": []
    },
    {
      "cell_type": "code",
      "source": [
        "trainer.save_model(\"/content/drive/MyDrive/Research/22 Brand Fit Project/Classifier/GoodImage/model-04052023\")"
      ],
      "metadata": {
        "id": "BHJsd90WwlnJ"
      },
      "execution_count": null,
      "outputs": []
    },
    {
      "cell_type": "markdown",
      "source": [
        "### Inference"
      ],
      "metadata": {
        "id": "k6cgFNBUlzlt"
      }
    },
    {
      "cell_type": "code",
      "source": [
        "from PIL import Image\n",
        "from transformers import AutoImageProcessor\n",
        "from transformers import ViTForImageClassification\n",
        "\n",
        "model_name_or_path = 'google/vit-base-patch16-224-in21k'\n",
        "image_processor = AutoImageProcessor.from_pretrained(model_name_or_path)\n",
        "\n",
        "\n",
        "\n",
        "model = ViTForImageClassification.from_pretrained(\n",
        "    \"/content/drive/MyDrive/Research/22 Brand Fit Project/Classifier/GoodImage/model-28042023\",\n",
        ")\n",
        "\n"
      ],
      "metadata": {
        "id": "nGc0UjlZl0NR"
      },
      "execution_count": null,
      "outputs": []
    },
    {
      "cell_type": "code",
      "source": [
        "images_test = glob.glob(\"Path/To/TestData/*.jpg\")"
      ],
      "metadata": {
        "id": "PhG8VuAOzV6O"
      },
      "execution_count": null,
      "outputs": []
    },
    {
      "cell_type": "code",
      "source": [
        "i = 4\n",
        "Image.open(images_test[i])"
      ],
      "metadata": {
        "id": "ieyOUF_mzeAc"
      },
      "execution_count": null,
      "outputs": []
    },
    {
      "cell_type": "code",
      "source": [
        "image = Image.open(images_test[i])\n",
        "inputs = image_processor(image, return_tensors=\"pt\")\n",
        "with torch.no_grad():\n",
        "    logits = model(**inputs).logits\n",
        "\n",
        "\n",
        "predicted_label = logits.argmax(-1).item()\n",
        "print(model.config.id2label[predicted_label])"
      ],
      "metadata": {
        "id": "jGD4X80SmXbT"
      },
      "execution_count": null,
      "outputs": []
    }
  ]
}