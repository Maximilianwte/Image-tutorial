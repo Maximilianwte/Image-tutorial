{
  "nbformat": 4,
  "nbformat_minor": 0,
  "metadata": {
    "colab": {
      "provenance": [],
      "mount_file_id": "1JYjzHQMw1Dlv8lcQHeLKn1EvxcklxMj9",
      "authorship_tag": "ABX9TyMeeEFDswlPFt1Pm2yDM4l2",
      "include_colab_link": true
    },
    "kernelspec": {
      "name": "python3",
      "display_name": "Python 3"
    },
    "language_info": {
      "name": "python"
    }
  },
  "cells": [
    {
      "cell_type": "markdown",
      "metadata": {
        "id": "view-in-github",
        "colab_type": "text"
      },
      "source": [
        "<a href=\"https://colab.research.google.com/github/Maximilianwte/Image-tutorial/blob/main/Image_labeling.ipynb\" target=\"_parent\"><img src=\"https://colab.research.google.com/assets/colab-badge.svg\" alt=\"Open In Colab\"/></a>"
      ]
    },
    {
      "cell_type": "code",
      "source": [
        "import ipywidgets as widgets\n",
        "from IPython.display import display\n",
        "from IPython.display import clear_output\n",
        "import functools\n",
        "import os\n",
        "import glob\n",
        "import pandas as pd\n",
        "import re"
      ],
      "metadata": {
        "id": "-NC88SHVMchL"
      },
      "execution_count": null,
      "outputs": []
    },
    {
      "cell_type": "code",
      "source": [
        "# Settings\n",
        "IM_DIR = \"/content/drive/MyDrive/Example Images\" # put your image directory here.\n",
        "CSV_PATH = \"/content/drive/MyDrive/Example Images\" # path to the folder where your ratings file should be saved.\n",
        "\n",
        "# Do not change\n",
        "data = {'filename': [], 'purchase_product': [], 'brand_transported': [], 'fit influencer-brand': [], 'cannot estimate influencer': [], 'cannot estimate product': []}\n",
        "df = pd.DataFrame.from_dict(data)\n",
        "index=-1"
      ],
      "metadata": {
        "id": "sKeCNufQMexL"
      },
      "execution_count": null,
      "outputs": []
    },
    {
      "cell_type": "code",
      "source": [
        "# If you want to restart labeling after you closed the notebook, uncomment both lines of code below\n",
        "#df = pd.read_csv(f'{CSV_PATH}/ratings.csv', index_col=0)\n",
        "#index = len(df)-2"
      ],
      "metadata": {
        "id": "U8MdmvQrNyUN"
      },
      "execution_count": null,
      "outputs": []
    },
    {
      "cell_type": "markdown",
      "source": [
        "Run this cell to start labeling. Click on the next button below to start seeing the first image"
      ],
      "metadata": {
        "id": "oYqXI-HX9WOi"
      }
    },
    {
      "cell_type": "code",
      "execution_count": null,
      "metadata": {
        "id": "W4BqYFCCMMa1"
      },
      "outputs": [],
      "source": [
        "# Do not change any code in this cell. Just run the cell.\n",
        "button_next = widgets.Button(description=\"Next\")\n",
        "output = widgets.Output()\n",
        "set=0\n",
        "files = glob.glob(f'{IM_DIR}/*.jpg')\n",
        "style = {'description_width': 'initial'}\n",
        "checkbox_inf = widgets.Checkbox(description=\"I can't estimate the person:\")\n",
        "checkbox_brand = widgets.Checkbox(description=\"I can't estimate the product:\")\n",
        "slider_purchase = widgets.IntSlider(value=1, min=1, max=7, description='How likely would you purchase the product?', style=style)\n",
        "slider_brand = widgets.IntSlider(value=1, min=1, max=7, description='How strongly is the brand transported in the image?', style=style)\n",
        "slider_fit = widgets.IntSlider(value=1, min=1, max=7, description='How well do influencer and brand fit together/look authentic?', style=style)\n",
        "slider_purchase.layout = widgets.Layout(width='500px')\n",
        "slider_brand.layout = widgets.Layout(width='550px')\n",
        "slider_fit.layout = widgets.Layout(width='620px')\n",
        "print(\"Please click on 'next' to start labeling the images.\")\n",
        "def next(b):\n",
        "  global index\n",
        "  global set\n",
        "  if set==0:\n",
        "    set=1\n",
        "  else:\n",
        "    file_path = files[index]\n",
        "    image_name = re.findall('/[^/]*$', file_path)[0][1:]\n",
        "    df.loc[index,'filename']=image_name\n",
        "    df.loc[index,'purchase_product']=slider_purchase.value\n",
        "    df.loc[index,'brand_transported']=slider_brand.value\n",
        "    df.loc[index,'fit influencer-brand']=slider_fit.value\n",
        "    df.loc[index,'cannot estimate influencer']=checkbox_inf.value\n",
        "    df.loc[index,'cannot estimate product']=checkbox_brand.value\n",
        "    df.to_csv(f'{CSV_PATH}/ratings.csv')\n",
        "\n",
        "  index+=1\n",
        "  with output:\n",
        "    clear_output(wait=True)\n",
        "    with open(files[index],'rb') as f:\n",
        "      data = f.read()\n",
        "    image = widgets.Image(value=data)\n",
        "    image.layout.height = '512px'\n",
        "    display(image)   \n",
        "\n",
        "button_next.on_click(next)\n",
        "display(output, checkbox_inf, checkbox_brand, slider_purchase, slider_brand, slider_fit, button_next)"
      ]
    },
    {
      "cell_type": "code",
      "source": [],
      "metadata": {
        "id": "zjfgj-aciLhn"
      },
      "execution_count": null,
      "outputs": []
    }
  ]
}